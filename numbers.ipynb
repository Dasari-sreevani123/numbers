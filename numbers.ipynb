{
 "cells": [
  {
   "cell_type": "code",
   "execution_count": 1,
   "metadata": {},
   "outputs": [
    {
     "name": "stdout",
     "output_type": "stream",
     "text": [
      "0\n",
      "1\n",
      "1\n",
      "2\n",
      "3\n",
      "5\n",
      "8\n",
      "13\n",
      "21\n",
      "34\n"
     ]
    }
   ],
   "source": [
    "#fibonacci series\n",
    "n1 = 0\n",
    "n2 = 1\n",
    "print(n1)\n",
    "print(n2)\n",
    "for i in range(2,10):\n",
    "    sum = n1 + n2\n",
    "    print(sum)\n",
    "    n1 = n2    \n",
    "    n2 = sum"
   ]
  },
  {
   "cell_type": "code",
   "execution_count": 3,
   "metadata": {},
   "outputs": [
    {
     "name": "stdout",
     "output_type": "stream",
     "text": [
      "12\n",
      "67\n",
      "67\n",
      "12\n"
     ]
    }
   ],
   "source": [
    "#swapping of two numbers\n",
    "a = int(input(\"Enter a number:\"))  #a=12\n",
    "b = int(input(\"Enter a number:\"))  #b=67\n",
    "print(a)   #before swapping\n",
    "print(b)   #before swapping\n",
    "temp = a\n",
    "a = b\n",
    "b = temp\n",
    "print(a)     #after swapping\n",
    "print(b)     #after swapping"
   ]
  }
 ],
 "metadata": {
  "kernelspec": {
   "display_name": "Python 3",
   "language": "python",
   "name": "python3"
  },
  "language_info": {
   "codemirror_mode": {
    "name": "ipython",
    "version": 3
   },
   "file_extension": ".py",
   "mimetype": "text/x-python",
   "name": "python",
   "nbconvert_exporter": "python",
   "pygments_lexer": "ipython3",
   "version": "3.12.4"
  }
 },
 "nbformat": 4,
 "nbformat_minor": 2
}
